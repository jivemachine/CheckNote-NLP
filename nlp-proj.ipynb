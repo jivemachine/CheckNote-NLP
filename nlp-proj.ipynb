{
 "cells": [
  {
   "cell_type": "code",
   "execution_count": 1,
   "id": "cf29b2da-dd52-46be-91ba-803244e0d9df",
   "metadata": {},
   "outputs": [],
   "source": [
    "from sshtunnel import SSHTunnelForwarder\n",
    "\n",
    "# 0.) Setup up SSH tunnel\n",
    "tunnel = SSHTunnelForwarder(\n",
    "    ('207.148.5.16', 22),\n",
    "    ssh_username='root',\n",
    "    ssh_password='BaconTurkeyBrav0',\n",
    "    remote_bind_address=('127.0.0.1', 3306),\n",
    "    local_bind_address=('127.0.0.1', 3310)\n",
    ")\n",
    "tunnel.start()"
   ]
  },
  {
   "cell_type": "code",
   "execution_count": 2,
   "id": "caae0a98",
   "metadata": {},
   "outputs": [],
   "source": [
    "import mysql.connector\n",
    "import pandas as pd\n",
    "\n",
    "# 1.) Connect to MySQL using tunnel\n",
    "cnx = mysql.connector.connect(\n",
    "    host='127.0.0.1',\n",
    "    port=tunnel.local_bind_port,\n",
    "    user='root',\n",
    "    password='Synt@urNB7',\n",
    "    database='SynD'\n",
    ")\n",
    "\n",
    "# 2.) Create cursor\n",
    "cursor = cnx.cursor(dictionary=True, buffered=False)\n",
    "\n",
    "# 3.) Query to fetch items\n",
    "query = \"\"\"\n",
    "SELECT ItemNumber, iNote, CheckNote\n",
    "FROM Item\n",
    "\"\"\"\n",
    "cursor.execute(query)\n",
    "\n",
    "all_rows = []\n",
    "for row in cursor:\n",
    "    all_rows.append(row)\n",
    "\n",
    "# 4.) Load into Pandas DataFrame for convenience\n",
    "df_items = pd.DataFrame(all_rows)\n",
    "\n",
    "cursor.close()\n",
    "cnx.close()"
   ]
  },
  {
   "cell_type": "code",
   "execution_count": 3,
   "id": "3dd7a760",
   "metadata": {},
   "outputs": [],
   "source": [
    "tunnel.close()"
   ]
  },
  {
   "cell_type": "code",
   "execution_count": 4,
   "id": "4ecca5bf",
   "metadata": {},
   "outputs": [
    {
     "data": {
      "text/html": [
       "<div>\n",
       "<style scoped>\n",
       "    .dataframe tbody tr th:only-of-type {\n",
       "        vertical-align: middle;\n",
       "    }\n",
       "\n",
       "    .dataframe tbody tr th {\n",
       "        vertical-align: top;\n",
       "    }\n",
       "\n",
       "    .dataframe thead th {\n",
       "        text-align: right;\n",
       "    }\n",
       "</style>\n",
       "<table border=\"1\" class=\"dataframe\">\n",
       "  <thead>\n",
       "    <tr style=\"text-align: right;\">\n",
       "      <th></th>\n",
       "      <th>ItemNumber</th>\n",
       "      <th>iNote</th>\n",
       "      <th>CheckNote</th>\n",
       "    </tr>\n",
       "  </thead>\n",
       "  <tbody>\n",
       "    <tr>\n",
       "      <th>0</th>\n",
       "      <td>01000</td>\n",
       "      <td></td>\n",
       "      <td>0.0</td>\n",
       "    </tr>\n",
       "    <tr>\n",
       "      <th>1</th>\n",
       "      <td>0705A</td>\n",
       "      <td>tech makes these.  Parts in kit: CD4013N (Synt...</td>\n",
       "      <td>1.0</td>\n",
       "    </tr>\n",
       "    <tr>\n",
       "      <th>2</th>\n",
       "      <td>0705B</td>\n",
       "      <td>Parts in kit: CD4013N (Syntaur #3322), 0.1 uF ...</td>\n",
       "      <td>0.0</td>\n",
       "    </tr>\n",
       "    <tr>\n",
       "      <th>3</th>\n",
       "      <td>10000</td>\n",
       "      <td>-- ALL ORDERS FOR THIS HAVE BEEN TEST ORDERS --</td>\n",
       "      <td>0.0</td>\n",
       "    </tr>\n",
       "    <tr>\n",
       "      <th>4</th>\n",
       "      <td>10001</td>\n",
       "      <td></td>\n",
       "      <td>0.0</td>\n",
       "    </tr>\n",
       "  </tbody>\n",
       "</table>\n",
       "</div>"
      ],
      "text/plain": [
       "  ItemNumber                                              iNote  CheckNote\n",
       "0      01000                                                           0.0\n",
       "1      0705A  tech makes these.  Parts in kit: CD4013N (Synt...        1.0\n",
       "2      0705B  Parts in kit: CD4013N (Syntaur #3322), 0.1 uF ...        0.0\n",
       "3      10000    -- ALL ORDERS FOR THIS HAVE BEEN TEST ORDERS --        0.0\n",
       "4      10001                                                           0.0"
      ]
     },
     "execution_count": 4,
     "metadata": {},
     "output_type": "execute_result"
    }
   ],
   "source": [
    "df_items.head()"
   ]
  },
  {
   "cell_type": "code",
   "execution_count": 5,
   "id": "d70d9336-5501-44f7-8f2c-2644d3c64cf5",
   "metadata": {},
   "outputs": [
    {
     "name": "stderr",
     "output_type": "stream",
     "text": [
      "[nltk_data] Downloading package punkt to\n",
      "[nltk_data]     /Users/jivemachine/nltk_data...\n",
      "[nltk_data]   Package punkt is already up-to-date!\n"
     ]
    }
   ],
   "source": [
    "import nltk\n",
    "nltk.download('punkt')\n",
    "from nltk.tokenize import sent_tokenize\n",
    "\n",
    "# function for splitting sentences\n",
    "def split_into_sentences(text):\n",
    "    if not text:\n",
    "        return []\n",
    "    return sent_tokenize(text)"
   ]
  },
  {
   "cell_type": "code",
   "execution_count": 6,
   "id": "75596e48-a3ec-4ea0-ad48-2dbaf3bcfed1",
   "metadata": {},
   "outputs": [],
   "source": [
    "# create labeled dataset\n",
    "labeled_data = []\n",
    "for idx, row in df_items.iterrows():\n",
    "    note = row['iNote']\n",
    "    sentences = split_into_sentences(note)\n",
    "    for s in sentences:\n",
    "        labeled_data.append({\n",
    "            'ItemNumber': row['ItemNumber'],\n",
    "            'sentence': s,\n",
    "            'checkNoteRelevant': None # fill in manually with labeling tool\n",
    "        })\n",
    "\n",
    "df_labeled = pd.DataFrame(labeled_data)\n",
    "df_labeled.to_csv(\"labeled_sentences.csv\", index=False)"
   ]
  }
 ],
 "metadata": {
  "kernelspec": {
   "display_name": "Python 3",
   "language": "python",
   "name": "python3"
  },
  "language_info": {
   "codemirror_mode": {
    "name": "ipython",
    "version": 3
   },
   "file_extension": ".py",
   "mimetype": "text/x-python",
   "name": "python",
   "nbconvert_exporter": "python",
   "pygments_lexer": "ipython3",
   "version": "3.7.4"
  }
 },
 "nbformat": 4,
 "nbformat_minor": 5
}
